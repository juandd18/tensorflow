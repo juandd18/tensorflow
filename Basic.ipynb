{
 "cells": [
  {
   "cell_type": "code",
   "execution_count": 3,
   "metadata": {
    "collapsed": false
   },
   "outputs": [],
   "source": [
    "import tensorflow as tf\n",
    "import numpy as np"
   ]
  },
  {
   "cell_type": "markdown",
   "metadata": {},
   "source": [
    "create constant"
   ]
  },
  {
   "cell_type": "code",
   "execution_count": 4,
   "metadata": {
    "collapsed": true
   },
   "outputs": [],
   "source": [
    "x = tf.constant(np.random.rand(32))\n",
    "y = tf.constant([1,2,3])"
   ]
  },
  {
   "cell_type": "markdown",
   "metadata": {},
   "source": [
    "start a session object"
   ]
  },
  {
   "cell_type": "code",
   "execution_count": 7,
   "metadata": {
    "collapsed": false
   },
   "outputs": [
    {
     "data": {
      "text/plain": [
       "array([[ 1.,  2.,  3.],\n",
       "       [ 4.,  5.,  6.]], dtype=float32)"
      ]
     },
     "execution_count": 7,
     "metadata": {},
     "output_type": "execute_result"
    }
   ],
   "source": [
    "sess =  tf.Session()\n",
    "x_data = np.array([[1,2,3],[4,5,6]])\n",
    "x_tensor = tf.convert_to_tensor(x_data,dtype=tf.float32)\n",
    "\n",
    "sess.run(x_tensor)\n"
   ]
  },
  {
   "cell_type": "raw",
   "metadata": {},
   "source": [
    "create variable"
   ]
  },
  {
   "cell_type": "code",
   "execution_count": 11,
   "metadata": {
    "collapsed": false
   },
   "outputs": [],
   "source": [
    "vari = tf.Variable(tf.zeros([100]))"
   ]
  },
  {
   "cell_type": "markdown",
   "metadata": {},
   "source": [
    "protobuffer "
   ]
  },
  {
   "cell_type": "code",
   "execution_count": 18,
   "metadata": {
    "collapsed": false
   },
   "outputs": [
    {
     "name": "stdout",
     "output_type": "stream",
     "text": [
      "node {\n",
      "  name: \"zeros\"\n",
      "  op: \"Const\"\n",
      "  attr {\n",
      "    key: \"dtype\"\n",
      "    value {\n",
      "      type: DT_FLOAT\n",
      "    }\n",
      "  }\n",
      "  attr {\n",
      "    key: \"value\"\n",
      "    value {\n",
      "      tensor {\n",
      "        dtype: DT_FLOAT\n",
      "        tensor_shape {\n",
      "          dim {\n",
      "            size: 10\n",
      "          }\n",
      "          dim {\n",
      "            size: 5\n",
      "          }\n",
      "        }\n",
      "        float_val: 0.0\n",
      "      }\n",
      "    }\n",
      "  }\n",
      "}\n",
      "node {\n",
      "  name: \"Variable\"\n",
      "  op: \"Variable\"\n",
      "  attr {\n",
      "    key: \"container\"\n",
      "    value {\n",
      "      s: \"\"\n",
      "    }\n",
      "  }\n",
      "  attr {\n",
      "    key: \"dtype\"\n",
      "    value {\n",
      "      type: DT_FLOAT\n",
      "    }\n",
      "  }\n",
      "  attr {\n",
      "    key: \"shape\"\n",
      "    value {\n",
      "      shape {\n",
      "        dim {\n",
      "          size: 10\n",
      "        }\n",
      "        dim {\n",
      "          size: 5\n",
      "        }\n",
      "      }\n",
      "    }\n",
      "  }\n",
      "  attr {\n",
      "    key: \"shared_name\"\n",
      "    value {\n",
      "      s: \"\"\n",
      "    }\n",
      "  }\n",
      "}\n",
      "node {\n",
      "  name: \"Variable/Assign\"\n",
      "  op: \"Assign\"\n",
      "  input: \"Variable\"\n",
      "  input: \"zeros\"\n",
      "  attr {\n",
      "    key: \"T\"\n",
      "    value {\n",
      "      type: DT_FLOAT\n",
      "    }\n",
      "  }\n",
      "  attr {\n",
      "    key: \"_class\"\n",
      "    value {\n",
      "      list {\n",
      "        s: \"loc:@Variable\"\n",
      "      }\n",
      "    }\n",
      "  }\n",
      "  attr {\n",
      "    key: \"use_locking\"\n",
      "    value {\n",
      "      b: true\n",
      "    }\n",
      "  }\n",
      "  attr {\n",
      "    key: \"validate_shape\"\n",
      "    value {\n",
      "      b: true\n",
      "    }\n",
      "  }\n",
      "}\n",
      "node {\n",
      "  name: \"Variable/read\"\n",
      "  op: \"Identity\"\n",
      "  input: \"Variable\"\n",
      "  attr {\n",
      "    key: \"T\"\n",
      "    value {\n",
      "      type: DT_FLOAT\n",
      "    }\n",
      "  }\n",
      "  attr {\n",
      "    key: \"_class\"\n",
      "    value {\n",
      "      list {\n",
      "        s: \"loc:@Variable\"\n",
      "      }\n",
      "    }\n",
      "  }\n",
      "}\n",
      "node {\n",
      "  name: \"Placeholder\"\n",
      "  op: \"Placeholder\"\n",
      "  attr {\n",
      "    key: \"dtype\"\n",
      "    value {\n",
      "      type: DT_FLOAT\n",
      "    }\n",
      "  }\n",
      "  attr {\n",
      "    key: \"shape\"\n",
      "    value {\n",
      "      shape {\n",
      "      }\n",
      "    }\n",
      "  }\n",
      "}\n",
      "node {\n",
      "  name: \"MatMul\"\n",
      "  op: \"MatMul\"\n",
      "  input: \"Placeholder\"\n",
      "  input: \"Variable/read\"\n",
      "  attr {\n",
      "    key: \"T\"\n",
      "    value {\n",
      "      type: DT_FLOAT\n",
      "    }\n",
      "  }\n",
      "  attr {\n",
      "    key: \"transpose_a\"\n",
      "    value {\n",
      "      b: false\n",
      "    }\n",
      "  }\n",
      "  attr {\n",
      "    key: \"transpose_b\"\n",
      "    value {\n",
      "      b: false\n",
      "    }\n",
      "  }\n",
      "}\n",
      "versions {\n",
      "  producer: 15\n",
      "}\n",
      "\n"
     ]
    }
   ],
   "source": [
    "g = tf.Graph() \n",
    "with g.as_default(): \n",
    "    sess = tf.Session() \n",
    "    W_m = tf.Variable(tf.zeros([10, 5])) \n",
    "    x_v = tf.placeholder(tf.float32, [None, 10]) \n",
    "    result = tf.matmul(x_v, W_m) \n",
    "    print(g.as_graph_def()) "
   ]
  },
  {
   "cell_type": "markdown",
   "metadata": {},
   "source": [
    "### Simple matrix operations"
   ]
  },
  {
   "cell_type": "code",
   "execution_count": 26,
   "metadata": {
    "collapsed": false
   },
   "outputs": [
    {
     "name": "stdout",
     "output_type": "stream",
     "text": [
      "[[23 12  4  3]\n",
      " [ 6  3  3  2]\n",
      " [ 1  7 23  7]\n",
      " [ 7  2  8  6]]\n",
      "---matmul---\n",
      "[[ 613  172  521  175]\n",
      " [2950  791  773  912]\n",
      " [ 221   90  367  181]\n",
      " [1180  479 2057  951]]\n",
      "--matrix determinant--\n",
      "84.0\n",
      "----matrix solve----\n",
      "[[ -3.66666651]\n",
      " [ 18.52380943]\n",
      " [ -0.4761906 ]\n",
      " [ -3.6190474 ]]\n"
     ]
    }
   ],
   "source": [
    "sess = tf.InteractiveSession()\n",
    "\n",
    "x = tf.constant( [ [1,46,8,2],[98,53,12,4],[5,3,13,6],[35,2,87,1]  ])\n",
    "y = tf.constant( [ [23,6,1,7],[12,3,7,2],[4,3,23,8],[3,2,7,6] ])\n",
    "\n",
    "floatx = tf.constant([[23.,6.,1.,7.],[12.,3.,7.,2.],[4.,3.,23.,8.],[3.,2.,7.,6.] ])\n",
    "\n",
    "print(tf.transpose(y).eval())\n",
    "\n",
    "print(\"---matmul---\")\n",
    "print(tf.matmul(x,y).eval())\n",
    "\n",
    "print(\"--matrix determinant--\")\n",
    "print(tf.matrix_determinant(floatx).eval())\n",
    "\n",
    "print(\"----matrix solve----\")\n",
    "print(tf.matrix_solve(floatx, [[1],[1],[1],[1]]).eval())"
   ]
  },
  {
   "cell_type": "markdown",
   "metadata": {},
   "source": [
    "### REDUCTION\n",
    "Reduction is an operation that applies an operation across one of the tensor's dimensions, \n",
    "leaving it with one less dimension."
   ]
  },
  {
   "cell_type": "code",
   "execution_count": 28,
   "metadata": {
    "collapsed": false
   },
   "outputs": [
    {
     "name": "stdout",
     "output_type": "stream",
     "text": [
      "reduce por fila\n",
      "[46 98 13 87]\n",
      "reduce mean por fila\n",
      "[14 41  6 31]\n"
     ]
    }
   ],
   "source": [
    "sess = tf.InteractiveSession()\n",
    "\n",
    "x = tf.constant( [ [1,46,8,2],[98,53,12,4],[5,3,13,6],[35,2,87,1]  ])\n",
    "\n",
    "print(\"reduce por fila\")\n",
    "print(tf.reduce_max(x,reduction_indices=1).eval())\n",
    "\n",
    "print(\"reduce mean por fila\")\n",
    "print(tf.reduce_mean(x,reduction_indices=1).eval())\n"
   ]
  },
  {
   "cell_type": "markdown",
   "metadata": {},
   "source": [
    "### Sequences"
   ]
  },
  {
   "cell_type": "code",
   "execution_count": 29,
   "metadata": {
    "collapsed": true
   },
   "outputs": [],
   "source": [
    "sess = tf.InteractiveSession() \n",
    "x = tf.constant([[2, 5, 3, -5], \n",
    "                 [0, 3,-2,  5], \n",
    "                 [4, 3, 5,  3], \n",
    "                 [6, 1, 4,  0]]) \n",
    "\n",
    "listx = tf.constant([1,2,3,4,5,6,7,8]) \n",
    "listy = tf.constant([4,5,8,9]) "
   ]
  },
  {
   "cell_type": "code",
   "execution_count": 33,
   "metadata": {
    "collapsed": false
   },
   "outputs": [
    {
     "name": "stdout",
     "output_type": "stream",
     "text": [
      "[3 2 1 3]\n",
      "[1 3 2 0]\n"
     ]
    }
   ],
   "source": [
    "print(tf.arg_min(x,1).eval()) # Position of the maximum value of columns \n",
    "\n",
    "print(tf.argmax(x, 1).eval()) # Position of the minimum value of rows"
   ]
  },
  {
   "cell_type": "markdown",
   "metadata": {},
   "source": [
    "### Tensor shape transformations"
   ]
  },
  {
   "cell_type": "code",
   "execution_count": 34,
   "metadata": {
    "collapsed": true
   },
   "outputs": [],
   "source": [
    "sess = tf.InteractiveSession() \n",
    "x = tf.constant([  #rank two tensor\n",
    "  [2, 5, 3, -5], \n",
    "  [0, 3,-2,  5], \n",
    "  [4, 3, 5,  3],  \n",
    "  [6, 1, 4,  0]]) "
   ]
  },
  {
   "cell_type": "code",
   "execution_count": 41,
   "metadata": {
    "collapsed": false
   },
   "outputs": [
    {
     "name": "stdout",
     "output_type": "stream",
     "text": [
      "[4 4]\n",
      "16\n",
      "2\n",
      "[[ 2  5]\n",
      " [ 3 -5]\n",
      " [ 0  3]\n",
      " [-2  5]\n",
      " [ 4  3]\n",
      " [ 5  3]\n",
      " [ 6  1]\n",
      " [ 4  0]]\n"
     ]
    }
   ],
   "source": [
    "print(tf.shape(x).eval()) # Shape of the tensor\n",
    "\n",
    "print(tf.size(x).eval()) #number of items that has a tensor\n",
    "\n",
    "print(tf.rank(x).eval()) #rank of a tensor\n",
    "\n",
    "print(tf.reshape(x,[8,2]).eval()) #reshape a tensor to o 8 rows and 2 columns (Solo sirve si tienen el mismo size )"
   ]
  },
  {
   "cell_type": "code",
   "execution_count": 46,
   "metadata": {
    "collapsed": false
   },
   "outputs": [
    {
     "name": "stdout",
     "output_type": "stream",
     "text": [
      "3\n"
     ]
    }
   ],
   "source": [
    "new_x = tf.expand_dims(x,1).eval() #Expanding dims\n",
    "print(tf.rank(new_x).eval())"
   ]
  },
  {
   "cell_type": "code",
   "execution_count": 47,
   "metadata": {
    "collapsed": false
   },
   "outputs": [
    {
     "name": "stdout",
     "output_type": "stream",
     "text": [
      "2\n"
     ]
    }
   ],
   "source": [
    "new_x2 = tf.squeeze(new_x).eval() #Expanding dims\n",
    "print(tf.rank(new_x2).eval())"
   ]
  },
  {
   "cell_type": "markdown",
   "metadata": {},
   "source": [
    "### TENSOR SLICING AND JOINING"
   ]
  },
  {
   "cell_type": "code",
   "execution_count": 58,
   "metadata": {
    "collapsed": false
   },
   "outputs": [
    {
     "name": "stdout",
     "output_type": "stream",
     "text": [
      "[[5 6]\n",
      " [8 9]]\n",
      "[[6]]\n"
     ]
    }
   ],
   "source": [
    "sess = tf.InteractiveSession() \n",
    "t_matrix = tf.constant([ [1,2,3], \n",
    "                         [4,5,6], \n",
    "                         [7,8,9] ]) \n",
    "\n",
    "t_array = tf.constant([1,2,3,4,9,8,6,5]) \n",
    "t_array2= tf.constant([2,3,4,5,6,7,8,9]) \n",
    " \n",
    "print(tf.slice(t_matrix, [1, 1], [2,2]).eval()) # cutting an slice \n",
    "\n",
    "print(tf.slice(t_matrix, [1, 2], [1,1]).eval()) # cutting an slice "
   ]
  },
  {
   "cell_type": "code",
   "execution_count": 63,
   "metadata": {
    "collapsed": false
   },
   "outputs": [
    {
     "name": "stdout",
     "output_type": "stream",
     "text": [
      "Tensor(\"split_4:0\", shape=(4,), dtype=int32)\n",
      "Tensor(\"split_4:1\", shape=(4,), dtype=int32)\n"
     ]
    }
   ],
   "source": [
    "n,d =tf.split(0, 2, t_array) # splitting the array in two\n",
    "print(n)\n",
    "print(d)"
   ]
  },
  {
   "cell_type": "code",
   "execution_count": null,
   "metadata": {
    "collapsed": true
   },
   "outputs": [],
   "source": []
  }
 ],
 "metadata": {
  "anaconda-cloud": {},
  "kernelspec": {
   "display_name": "Python [conda env:tensorflow]",
   "language": "python",
   "name": "conda-env-tensorflow-py"
  },
  "language_info": {
   "codemirror_mode": {
    "name": "ipython",
    "version": 3
   },
   "file_extension": ".py",
   "mimetype": "text/x-python",
   "name": "python",
   "nbconvert_exporter": "python",
   "pygments_lexer": "ipython3",
   "version": "3.4.5"
  }
 },
 "nbformat": 4,
 "nbformat_minor": 2
}
