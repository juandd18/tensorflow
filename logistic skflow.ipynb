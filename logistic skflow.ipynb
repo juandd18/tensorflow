{
 "cells": [
  {
   "cell_type": "code",
   "execution_count": 3,
   "metadata": {
    "collapsed": false
   },
   "outputs": [
    {
     "name": "stderr",
     "output_type": "stream",
     "text": [
      "/Users/juandavid/anaconda/envs/tensorflow/lib/python3.4/site-packages/sklearn/preprocessing/data.py:586: DeprecationWarning: Passing 1d arrays as data is deprecated in 0.17 and will raise ValueError in 0.19. Reshape your data either using X.reshape(-1, 1) if your data has a single feature or X.reshape(1, -1) if it contains a single sample.\n",
      "  warnings.warn(DEPRECATION_MSG_1D, DeprecationWarning)\n",
      "/Users/juandavid/anaconda/envs/tensorflow/lib/python3.4/site-packages/sklearn/preprocessing/data.py:649: DeprecationWarning: Passing 1d arrays as data is deprecated in 0.17 and will raise ValueError in 0.19. Reshape your data either using X.reshape(-1, 1) if your data has a single feature or X.reshape(1, -1) if it contains a single sample.\n",
      "  warnings.warn(DEPRECATION_MSG_1D, DeprecationWarning)\n",
      "WARNING:tensorflow:Using temporary folder as model directory: /var/folders/sh/dbv31ncx2rs3k875xwmz7d0h0000gq/T/tmpy1udzw75\n",
      "WARNING:tensorflow:Using default config.\n",
      "WARNING:tensorflow:float64 is not supported by many models, consider casting to float32.\n"
     ]
    },
    {
     "name": "stdout",
     "output_type": "stream",
     "text": [
      "              age        chd\n",
      "count  100.000000  100.00000\n",
      "mean    44.380000    0.43000\n",
      "std     11.721327    0.49757\n",
      "min     20.000000    0.00000\n",
      "25%     34.750000    0.00000\n",
      "50%     44.000000    0.00000\n",
      "75%     55.000000    1.00000\n",
      "max     69.000000    1.00000\n"
     ]
    },
    {
     "name": "stderr",
     "output_type": "stream",
     "text": [
      "WARNING:tensorflow:float64 is not supported by many models, consider casting to float32.\n"
     ]
    },
    {
     "name": "stdout",
     "output_type": "stream",
     "text": [
      "Accuracy: 0.740000\n"
     ]
    }
   ],
   "source": [
    "import tensorflow.contrib.learn as skflow \n",
    "from sklearn import datasets, metrics, preprocessing \n",
    "import numpy as np \n",
    "import pandas as pd \n",
    " \n",
    "df = pd.read_csv(\"data/CHD.csv\", header=0) \n",
    "print(df.describe()) \n",
    " \n",
    "def my_model(X, y): \n",
    "    return skflow.models.logistic_regression(X, y) \n",
    " \n",
    "a = preprocessing.StandardScaler() \n",
    " \n",
    "X1 =a.fit_transform(df['age'].astype(float)) \n",
    " \n",
    "y1 = df['chd'].values \n",
    " \n",
    " \n",
    "classifier = skflow.TensorFlowEstimator(model_fn=my_model, n_classes=2) \n",
    "classifier.fit(X1,y1 , logdir='/tmp/logistic') \n",
    " \n",
    " \n",
    " \n",
    "score = metrics.accuracy_score(df['chd'].astype(float), classifier.predict(X1)) \n",
    "print(\"Accuracy: %f\" % score)"
   ]
  },
  {
   "cell_type": "code",
   "execution_count": null,
   "metadata": {
    "collapsed": true
   },
   "outputs": [],
   "source": []
  }
 ],
 "metadata": {
  "kernelspec": {
   "display_name": "Python [conda env:tensorflow]",
   "language": "python",
   "name": "conda-env-tensorflow-py"
  },
  "language_info": {
   "codemirror_mode": {
    "name": "ipython",
    "version": 3
   },
   "file_extension": ".py",
   "mimetype": "text/x-python",
   "name": "python",
   "nbconvert_exporter": "python",
   "pygments_lexer": "ipython3",
   "version": "3.4.5"
  }
 },
 "nbformat": 4,
 "nbformat_minor": 2
}
